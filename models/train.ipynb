{
 "cells": [
  {
   "cell_type": "code",
   "execution_count": 6,
   "metadata": {},
   "outputs": [],
   "source": [
    "# Import required libraries\n",
    "import os\n",
    "import warnings\n",
    "import sys\n",
    "import pandas as pd\n",
    "import numpy as np\n",
    "from itertools import cycle\n",
    "import matplotlib.pyplot as plt\n",
    "from sklearn.metrics import mean_squared_error, mean_absolute_error, r2_score\n",
    "from sklearn.model_selection import train_test_split\n",
    "from sklearn.linear_model import ElasticNet\n",
    "from sklearn.linear_model import lasso_path, enet_path\n",
    "from sklearn import datasets\n",
    "import datetime\n",
    "import pickle\n",
    "from joblib import dump, load\n",
    "import streamlit as st\n",
    "\n",
    "# Import mlflow\n",
    "import mlflow\n",
    "import mlflow.sklearn\n",
    "from mlflow import log_metric, log_param, log_artifacts\n",
    "from mlflow.models.signature import infer_signature\n",
    "mlflow.set_tracking_uri(\"http://127.0.0.1:5000/\")\n",
    "mlflow.set_experiment(\"Red-Blue-Experiment-4\")\n",
    "\n",
    "# Load diabetes dataset\n",
    "diabetes = datasets.load_diabetes()\n",
    "X = diabetes.data\n",
    "y = diabetes.target\n",
    "\n",
    "# Create pandas DataFrame \n",
    "\n",
    "Y = np.array([y]).transpose()\n",
    "d = np.concatenate((X, Y), axis=1)\n",
    "cols = ['age', 'sex', 'bmi', 'bp', 's1', 's2', 's3', 's4', 's5', 's6', 'progression']\n",
    "data = pd.DataFrame(d, columns=cols)\n"
   ]
  },
  {
   "cell_type": "code",
   "execution_count": 7,
   "metadata": {},
   "outputs": [
    {
     "data": {
      "text/plain": [
       "array([ 0.03807591,  0.05068012,  0.06169621,  0.02187239, -0.0442235 ,\n",
       "       -0.03482076, -0.04340085, -0.00259226,  0.01990749, -0.01764613])"
      ]
     },
     "execution_count": 7,
     "metadata": {},
     "output_type": "execute_result"
    }
   ],
   "source": [
    "diabetes.data[0,:]"
   ]
  },
  {
   "cell_type": "markdown",
   "metadata": {},
   "source": [
    "comandos mlflow\n",
    "\n",
    "mlflow server --backend-store-uri sqlite:///mlruns.db --default-artifact-root file://$PWD/mlruns\n",
    "\n",
    "mlflow models serve --model-uri runs:/ede4cc6ace71468ab2e881dc14d25f6b/models --port 5050\n",
    "\n",
    "\n",
    "uvicorn app:app --port 5000\n",
    "\n",
    "docker build -t diabetes-ml-build .\n",
    "docker run -d -p 80:80 --name diabetes-api iris-ml-build"
   ]
  },
  {
   "cell_type": "code",
   "execution_count": 8,
   "metadata": {},
   "outputs": [],
   "source": [
    "def plot_enet_descent_path(X, y, l1_ratio):\n",
    "    # Compute paths\n",
    "    eps = 5e-3  # the smaller it is the longer is the path\n",
    "    # Reference the global image variable\n",
    "\n",
    "    global image\n",
    "    print(\"Computing regularization path using ElasticNet.\")\n",
    "    alphas_enet, coefs_enet, _ = enet_path(X, y, eps=eps, l1_ratio=l1_ratio, fit_intercept=False)\n",
    "\n",
    "    # Display results\n",
    "    fig = plt.figure(1)\n",
    "    ax = plt.gca()\n",
    "\n",
    "    colors = cycle(['b', 'r', 'g', 'c', 'k'])\n",
    "    neg_log_alphas_enet = -np.log10(alphas_enet)\n",
    "    for coef_e, c in zip(coefs_enet, colors):\n",
    "        l1 = plt.plot(neg_log_alphas_enet, coef_e, linestyle='--', c=c)\n",
    "\n",
    "    plt.xlabel('-Log(alpha)')\n",
    "    plt.ylabel('coefficients')\n",
    "    title = 'ElasticNet Path by alpha for l1_ratio = ' + str(l1_ratio)\n",
    "    plt.title(title)\n",
    "    plt.axis('tight')\n",
    "\n",
    "    # Display images\n",
    "    image = fig\n",
    "\n",
    "    # Save figure\n",
    "    fig.savefig(\"ElasticNet-paths.png\")\n",
    "\n",
    "    # Close plot\n",
    "    plt.close(fig)\n",
    "\n",
    "    # Return images\n",
    "    return image    "
   ]
  },
  {
   "cell_type": "code",
   "execution_count": 13,
   "metadata": {},
   "outputs": [],
   "source": [
    "# train_diabetes\n",
    "#   Uses the sklearn Diabetes dataset to predict diabetes progression using ElasticNet\n",
    "#       The predicted \"progression\" column is a quantitative measure of disease progression one year after baseline\n",
    "#       http://scikit-learn.org/stable/modules/generated/sklearn.datasets.load_diabetes.html\n",
    "\n",
    "import joblib\n",
    "\n",
    "\n",
    "def train_diabetes(data, in_alpha, in_l1_ratio):\n",
    "\n",
    "  # Evaluate metrics\n",
    "  def eval_metrics(actual, pred):\n",
    "      rmse = np.sqrt(mean_squared_error(actual, pred))\n",
    "      mae = mean_absolute_error(actual, pred)\n",
    "      r2 = r2_score(actual, pred)\n",
    "      return rmse, mae, r2\n",
    "\n",
    "  warnings.filterwarnings(\"ignore\")\n",
    "  np.random.seed(40)\n",
    "\n",
    "  # Split the data into training and test sets. (0.75, 0.25) split.\n",
    "  train, test = train_test_split(data)\n",
    "\n",
    "  # The predicted column is \"progression\" which is a quantitative measure of disease progression one year after baseline\n",
    "  train_x = train.drop([\"progression\"], axis=1)\n",
    "  test_x = test.drop([\"progression\"], axis=1)\n",
    "  train_y = train[[\"progression\"]]\n",
    "  test_y = test[[\"progression\"]]\n",
    "\n",
    "  if float(in_alpha) is None:\n",
    "    alpha = 0.05\n",
    "  else:\n",
    "    alpha = float(in_alpha)\n",
    "\n",
    "  if float(in_l1_ratio) is None:\n",
    "    l1_ratio = 0.05\n",
    "  else:\n",
    "    l1_ratio = float(in_l1_ratio)\n",
    "\n",
    "\n",
    "  tag = {\"data\":\"sample\", \"model\": \"Elasticnet\"}\n",
    "  runname = \"ElasticNet-\" + str(datetime.datetime.now()).replace(\" \",\"T\")\n",
    "  with mlflow.start_run(run_name=runname) as run:\n",
    "    mlflow.set_tags(tag)   \n",
    "    lr = ElasticNet(alpha=alpha, l1_ratio=l1_ratio, random_state=42)\n",
    "    lr.fit(train_x, train_y)\n",
    "    predicted_qualities = lr.predict(test_x)\n",
    "    (rmse, mae, r2) = eval_metrics(test_y, predicted_qualities)\n",
    "\n",
    "    # Print out ElasticNet model metrics\n",
    "    print(\"Elasticnet model (alpha=%f, l1_ratio=%f):\" % (alpha, l1_ratio))\n",
    "    print(\"  RMSE: %s\" % rmse)\n",
    "    print(\"  MAE: %s\" % mae)\n",
    "    print(\"  R2: %s\" % r2)\n",
    "\n",
    "    # Log mlflow attributes for mlflow UI\n",
    "    mlflow.log_param(\"alpha\", alpha)\n",
    "    mlflow.log_param(\"l1_ratio\", l1_ratio)\n",
    "    mlflow.log_metric(\"rmse\", rmse)\n",
    "    mlflow.log_metric(\"r2\", r2)\n",
    "    mlflow.log_metric(\"mae\", mae)\n",
    "    mlflow.sklearn.log_model(lr, \"model\")\n",
    "\n",
    "    dump(lr, './ml/diabetes_v2.joblib')\n",
    "    \n",
    "  mlflow.end_run()\n",
    "  print(\"Training Complete.\")"
   ]
  },
  {
   "cell_type": "code",
   "execution_count": 14,
   "metadata": {},
   "outputs": [
    {
     "name": "stdout",
     "output_type": "stream",
     "text": [
      "Elasticnet model (alpha=0.010000, l1_ratio=0.010000):\n",
      "  RMSE: 71.40365347371498\n",
      "  MAE: 60.09131524886582\n",
      "  R2: 0.2291124645214172\n",
      "Training Complete.\n",
      "Elasticnet model (alpha=0.020000, l1_ratio=0.050000):\n",
      "  RMSE: 74.8016687900868\n",
      "  MAE: 63.117724609774626\n",
      "  R2: 0.15399538913223376\n",
      "Training Complete.\n",
      "Elasticnet model (alpha=0.200000, l1_ratio=0.100000):\n",
      "  RMSE: 81.36629332080149\n",
      "  MAE: 68.82388164338657\n",
      "  R2: -0.0010118534327692164\n",
      "Training Complete.\n"
     ]
    }
   ],
   "source": [
    "train_diabetes(data,0.01,0.01)\n",
    "train_diabetes(data,0.02,0.05)\n",
    "train_diabetes(data,0.2,0.1)"
   ]
  },
  {
   "cell_type": "code",
   "execution_count": 15,
   "metadata": {},
   "outputs": [
    {
     "data": {
      "text/plain": [
       "age              0.038076\n",
       "sex              0.050680\n",
       "bmi              0.061696\n",
       "bp               0.021872\n",
       "s1              -0.044223\n",
       "s2              -0.034821\n",
       "s3              -0.043401\n",
       "s4              -0.002592\n",
       "s5               0.019907\n",
       "s6              -0.017646\n",
       "progression    151.000000\n",
       "Name: 0, dtype: float64"
      ]
     },
     "execution_count": 15,
     "metadata": {},
     "output_type": "execute_result"
    }
   ],
   "source": [
    "data.iloc[0]"
   ]
  },
  {
   "cell_type": "code",
   "execution_count": null,
   "metadata": {},
   "outputs": [],
   "source": []
  }
 ],
 "metadata": {
  "kernelspec": {
   "display_name": "Python 3.8.13 ('mlflow')",
   "language": "python",
   "name": "python3"
  },
  "language_info": {
   "codemirror_mode": {
    "name": "ipython",
    "version": 3
   },
   "file_extension": ".py",
   "mimetype": "text/x-python",
   "name": "python",
   "nbconvert_exporter": "python",
   "pygments_lexer": "ipython3",
   "version": "3.8.13"
  },
  "orig_nbformat": 4,
  "vscode": {
   "interpreter": {
    "hash": "80b44237adcf163ea70c8aa305bafee90ed3fa6c8cf79c756eb44a153cadfd51"
   }
  }
 },
 "nbformat": 4,
 "nbformat_minor": 2
}
